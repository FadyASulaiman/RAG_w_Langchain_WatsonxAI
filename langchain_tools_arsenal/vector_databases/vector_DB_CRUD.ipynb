{
 "cells": [
  {
   "cell_type": "markdown",
   "metadata": {},
   "source": [
    "# CRUD Operations in a vector DB"
   ]
  },
  {
   "cell_type": "markdown",
   "metadata": {},
   "source": [
    "### Insert"
   ]
  },
  {
   "cell_type": "code",
   "execution_count": null,
   "metadata": {
    "vscode": {
     "languageId": "plaintext"
    }
   },
   "outputs": [],
   "source": [
    "new_chunk =  Document(\n",
    "    page_content=\"text\",\n",
    "    metadata={\n",
    "        \"source\": \"ibm.com\",\n",
    "        \"page\": 1\n",
    "    }\n",
    ")\n",
    "\n",
    "new_chunks = [new_chunk]\n",
    "\n",
    "vectordb.add_documents(\n",
    "    new_chunks,\n",
    "    ids=[\"215\"]\n",
    ")"
   ]
  },
  {
   "cell_type": "markdown",
   "metadata": {},
   "source": [
    "### Update"
   ]
  },
  {
   "cell_type": "markdown",
   "metadata": {},
   "source": [
    "update_chunk =  Document(\n",
    "    page_content=\"Instructlab is a perfect open source tool for fine-tuning a LLM.\",\n",
    "    metadata={\n",
    "        \"source\": \"ibm.com\",\n",
    "        \"page\": 1\n",
    "    }\n",
    ")\n",
    "\n",
    "vectordb.update_document(\n",
    "    '215',\n",
    "    update_chunk,\n",
    ")"
   ]
  },
  {
   "cell_type": "markdown",
   "metadata": {},
   "source": [
    "### Delete"
   ]
  },
  {
   "cell_type": "markdown",
   "metadata": {},
   "source": [
    "vectordb._collection.delete(ids=['215'])"
   ]
  }
 ],
 "metadata": {
  "language_info": {
   "name": "python"
  }
 },
 "nbformat": 4,
 "nbformat_minor": 2
}
